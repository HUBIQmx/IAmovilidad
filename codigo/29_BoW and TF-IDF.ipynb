{
 "cells": [
  {
   "cell_type": "markdown",
   "id": "947ae16c",
   "metadata": {},
   "source": [
    "## BoW & TF-IDF"
   ]
  },
  {
   "cell_type": "code",
   "execution_count": 3,
   "id": "814f5e36",
   "metadata": {},
   "outputs": [],
   "source": [
    "# Librerias\n",
    "from sklearn.feature_extraction.text import TfidfTransformer\n",
    "from sklearn.feature_extraction.text import CountVectorizer"
   ]
  },
  {
   "cell_type": "code",
   "execution_count": 4,
   "id": "3ff7be64",
   "metadata": {},
   "outputs": [],
   "source": [
    "# Datos\n",
    "corpus = ['this is the first document',\n",
    "           'this document is the second document',\n",
    "           'and this is the third one',\n",
    "           'is this document the first document',\n",
    "           'a document',\n",
    "           'new first document',\n",
    "           'the old document',\n",
    "           'one more document',\n",
    "           'this is the last document']\n",
    "vocabulary = ['this', 'document', 'first', 'is', 'second', 'the', 'and', 'one']"
   ]
  },
  {
   "cell_type": "code",
   "execution_count": 5,
   "id": "eb9db5b7",
   "metadata": {},
   "outputs": [
    {
     "name": "stdout",
     "output_type": "stream",
     "text": [
      "--- Bag of words --- \n",
      "[[1 1 1 1 0 1 0 0]\n",
      " [1 2 0 1 1 1 0 0]\n",
      " [1 0 0 1 0 1 1 1]\n",
      " [1 2 1 1 0 1 0 0]\n",
      " [0 1 0 0 0 0 0 0]\n",
      " [0 1 1 0 0 0 0 0]\n",
      " [0 1 0 0 0 1 0 0]\n",
      " [0 1 0 0 0 0 0 1]\n",
      " [1 1 0 1 0 1 0 0]]\n",
      "Shape : (9, 8)\n"
     ]
    }
   ],
   "source": [
    "BoW = CountVectorizer(vocabulary=vocabulary).fit_transform(corpus)\n",
    "\n",
    "print(\"--- Bag of words --- \")\n",
    "print(BoW.toarray())\n",
    "print(\"Shape :\", BoW.toarray().shape)"
   ]
  },
  {
   "cell_type": "code",
   "execution_count": 6,
   "id": "bb76892e",
   "metadata": {},
   "outputs": [
    {
     "name": "stdout",
     "output_type": "stream",
     "text": [
      "--- IDF --- \n",
      "[1.51082562 1.10536052 1.91629073 1.51082562 2.60943791 1.35667494\n",
      " 2.60943791 2.2039728 ]\n",
      "--- Transformed --- \n",
      "[[0.44944855 0.3288286  0.57006849 0.44944855 0.         0.40359097\n",
      "  0.         0.        ]\n",
      " [0.35509827 0.51959882 0.         0.35509827 0.61331161 0.31886733\n",
      "  0.         0.        ]\n",
      " [0.35539083 0.         0.         0.35539083 0.         0.31913004\n",
      "  0.6138169  0.51843953]\n",
      " [0.39054663 0.57146876 0.49535888 0.39054663 0.         0.35069886\n",
      "  0.         0.        ]\n",
      " [0.         1.         0.         0.         0.         0.\n",
      "  0.         0.        ]\n",
      " [0.         0.49965739 0.86622312 0.         0.         0.\n",
      "  0.         0.        ]\n",
      " [0.         0.63164605 0.         0.         0.         0.7752569\n",
      "  0.         0.        ]\n",
      " [0.         0.44830803 0.         0.         0.         0.\n",
      "  0.         0.89387914]\n",
      " [0.54704247 0.40023093 0.         0.54704247 0.         0.49122731\n",
      "  0.         0.        ]]\n",
      "Shape : (9, 8)\n"
     ]
    }
   ],
   "source": [
    "TF  = TfidfTransformer().fit(BoW)\n",
    "print(\"--- IDF --- \")\n",
    "print(TF.idf_)\n",
    "\n",
    "print(\"--- Transformed --- \")\n",
    "print(TF.transform(BoW).toarray())\n",
    "print(\"Shape :\", TF.transform(BoW).toarray().shape)"
   ]
  },
  {
   "cell_type": "code",
   "execution_count": null,
   "id": "7faa5bcb",
   "metadata": {},
   "outputs": [],
   "source": [
    "# IDF = N / ndf = log(N/ndf)"
   ]
  },
  {
   "cell_type": "code",
   "execution_count": null,
   "id": "1e8be5cb",
   "metadata": {},
   "outputs": [],
   "source": []
  },
  {
   "cell_type": "code",
   "execution_count": 7,
   "id": "ee7871ed",
   "metadata": {},
   "outputs": [
    {
     "data": {
      "text/plain": [
       "1.1053605156578263"
      ]
     },
     "execution_count": 7,
     "metadata": {},
     "output_type": "execute_result"
    }
   ],
   "source": [
    "# If smooth_idf=True (the default), the constant “1” is added to the numerator \n",
    "# and denominator of the idf as if an extra document was seen containing every \n",
    "# term in the collection exactly once, \n",
    "# which prevents zero divisions: idf(t) = log [ (1 + n) / (1 + df(t)) ] + 1.\n",
    "import math\n",
    "math.log((1+9)/(1+8)) + 1"
   ]
  },
  {
   "cell_type": "code",
   "execution_count": 8,
   "id": "99989747",
   "metadata": {},
   "outputs": [
    {
     "data": {
      "text/plain": [
       "1.5108256237659907"
      ]
     },
     "execution_count": 8,
     "metadata": {},
     "output_type": "execute_result"
    }
   ],
   "source": [
    "math.log((1+9)/(1+5)) + 1"
   ]
  },
  {
   "cell_type": "code",
   "execution_count": null,
   "id": "d2efb032",
   "metadata": {},
   "outputs": [],
   "source": []
  },
  {
   "cell_type": "code",
   "execution_count": null,
   "id": "11fefc67",
   "metadata": {},
   "outputs": [],
   "source": [
    "\n",
    "\n",
    "\n",
    "\n",
    "\n",
    "\n",
    "\n",
    "\n",
    "\n",
    "\n",
    "\n"
   ]
  },
  {
   "cell_type": "code",
   "execution_count": 5,
   "id": "3af084f1",
   "metadata": {},
   "outputs": [],
   "source": [
    "import math"
   ]
  },
  {
   "cell_type": "code",
   "execution_count": 19,
   "id": "d8cb91be",
   "metadata": {},
   "outputs": [
    {
     "data": {
      "text/plain": [
       "1.1053605156578263"
      ]
     },
     "execution_count": 19,
     "metadata": {},
     "output_type": "execute_result"
    }
   ],
   "source": [
    "# If smooth_idf=True (the default), the constant “1” is added to the numerator \n",
    "# and denominator of the idf as if an extra document was seen containing every \n",
    "# term in the collection exactly once, \n",
    "# which prevents zero divisions: idf(t) = log [ (1 + n) / (1 + df(t)) ] + 1.\n",
    "math.log((9+1)/(8+1)) + 1 # Palabra: document aparece en 8 de 9 documentos"
   ]
  },
  {
   "cell_type": "code",
   "execution_count": 20,
   "id": "fde9ae27",
   "metadata": {},
   "outputs": [
    {
     "data": {
      "text/plain": [
       "1.5108256237659907"
      ]
     },
     "execution_count": 20,
     "metadata": {},
     "output_type": "execute_result"
    }
   ],
   "source": [
    "math.log((1+9)/(1+5)) + 1 # palabra: this aparece en 5 de 9 documentos"
   ]
  },
  {
   "cell_type": "code",
   "execution_count": 22,
   "id": "28185415",
   "metadata": {},
   "outputs": [
    {
     "data": {
      "text/plain": [
       "2.6094379124341005"
      ]
     },
     "execution_count": 22,
     "metadata": {},
     "output_type": "execute_result"
    }
   ],
   "source": [
    "math.log((1+9)/(1+1)) + 1 # palabra: and aparece en 1 de 9 documentos"
   ]
  },
  {
   "cell_type": "code",
   "execution_count": 21,
   "id": "1cd169ee",
   "metadata": {},
   "outputs": [
    {
     "data": {
      "text/plain": [
       "array([1.51082562, 1.10536052, 1.91629073, 1.51082562, 2.60943791,\n",
       "       1.35667494, 2.60943791, 2.2039728 ])"
      ]
     },
     "execution_count": 21,
     "metadata": {},
     "output_type": "execute_result"
    }
   ],
   "source": [
    "TF.idf_"
   ]
  },
  {
   "cell_type": "code",
   "execution_count": 23,
   "id": "22a709b5",
   "metadata": {},
   "outputs": [
    {
     "data": {
      "text/plain": [
       "2.203972804325936"
      ]
     },
     "execution_count": 23,
     "metadata": {},
     "output_type": "execute_result"
    }
   ],
   "source": [
    "math.log((1+9)/(2+1)) + 1 # palabra: one aparece en 2 de 9 documentos"
   ]
  },
  {
   "cell_type": "code",
   "execution_count": 24,
   "id": "be976f86",
   "metadata": {},
   "outputs": [
    {
     "data": {
      "text/plain": [
       "2.46562729311027"
      ]
     },
     "execution_count": 24,
     "metadata": {},
     "output_type": "execute_result"
    }
   ],
   "source": [
    "2.203972804325936 / 0.89387914"
   ]
  },
  {
   "cell_type": "code",
   "execution_count": 25,
   "id": "9b922026",
   "metadata": {},
   "outputs": [
    {
     "data": {
      "text/plain": [
       "1.0"
      ]
     },
     "execution_count": 25,
     "metadata": {},
     "output_type": "execute_result"
    }
   ],
   "source": [
    "1 + math.log(1) * 2.203972804325936"
   ]
  },
  {
   "cell_type": "code",
   "execution_count": null,
   "id": "8421ddc5",
   "metadata": {},
   "outputs": [],
   "source": [
    "norm=None"
   ]
  }
 ],
 "metadata": {
  "kernelspec": {
   "display_name": "Python 3 (ipykernel)",
   "language": "python",
   "name": "python3"
  },
  "language_info": {
   "codemirror_mode": {
    "name": "ipython",
    "version": 3
   },
   "file_extension": ".py",
   "mimetype": "text/x-python",
   "name": "python",
   "nbconvert_exporter": "python",
   "pygments_lexer": "ipython3",
   "version": "3.10.9"
  }
 },
 "nbformat": 4,
 "nbformat_minor": 5
}
