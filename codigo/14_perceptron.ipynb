{
 "cells": [
  {
   "cell_type": "markdown",
   "id": "22436dc4",
   "metadata": {},
   "source": [
    "## Perceptrón"
   ]
  },
  {
   "cell_type": "code",
   "execution_count": 1,
   "id": "16f1c4b5",
   "metadata": {},
   "outputs": [],
   "source": [
    "# Librerias\n",
    "import numpy as np\n",
    "import matplotlib.pyplot as plt"
   ]
  },
  {
   "cell_type": "code",
   "execution_count": 2,
   "id": "ac8c9dee",
   "metadata": {},
   "outputs": [],
   "source": [
    "# Datos\n",
    "X = np.array([[1,2],[-1,2],[0,-1]]) # P1, P2, P3\n",
    "y = np.array([1, 0, 0])"
   ]
  },
  {
   "cell_type": "code",
   "execution_count": 3,
   "id": "38fd1d34",
   "metadata": {},
   "outputs": [],
   "source": [
    "# Función de activación\n",
    "def activacion(n):\n",
    "    return 1 if n >= 0 else 0"
   ]
  },
  {
   "cell_type": "code",
   "execution_count": 24,
   "id": "184daf25",
   "metadata": {},
   "outputs": [],
   "source": [
    "# Inicializacion\n",
    "np.random.seed(12)\n",
    "pesos = np.random.rand(2) #np.array([1.0, -0.8])\n",
    "\n",
    "epocas = 10\n",
    "epIni  = 0"
   ]
  },
  {
   "cell_type": "code",
   "execution_count": 25,
   "id": "c7e555f6",
   "metadata": {},
   "outputs": [
    {
     "name": "stdout",
     "output_type": "stream",
     "text": [
      "Pesos:  [0.15416284 0.7400497 ]\n",
      "Pesos:  [ 1.15416284 -1.2599503 ]\n",
      "Pesos:  [ 1.15416284 -0.2599503 ]\n",
      "Pesos:  [ 1.15416284 -0.2599503 ]\n",
      "Pesos:  [ 1.15416284 -0.2599503 ]\n",
      "Pesos:  [1.15416284 0.7400497 ]\n",
      "Pesos:  [1.15416284 0.7400497 ]\n",
      "Pesos:  [ 2.15416284 -1.2599503 ]\n",
      "Pesos:  [ 2.15416284 -0.2599503 ]\n",
      "Pesos:  [ 2.15416284 -0.2599503 ]\n",
      "Pesos:  [ 2.15416284 -0.2599503 ]\n",
      "Pesos:  [2.15416284 0.7400497 ]\n",
      "Pesos:  [2.15416284 0.7400497 ]\n",
      "Pesos:  [2.15416284 0.7400497 ]\n",
      "Pesos:  [2.15416284 0.7400497 ]\n",
      "Pesos:  [2.15416284 0.7400497 ]\n",
      "Pesos:  [2.15416284 0.7400497 ]\n",
      "Pesos:  [2.15416284 0.7400497 ]\n",
      "Pesos:  [2.15416284 0.7400497 ]\n",
      "Pesos:  [2.15416284 0.7400497 ]\n",
      "Pesos:  [2.15416284 0.7400497 ]\n",
      "Pesos:  [2.15416284 0.7400497 ]\n",
      "Pesos:  [2.15416284 0.7400497 ]\n",
      "Pesos:  [2.15416284 0.7400497 ]\n",
      "Pesos:  [2.15416284 0.7400497 ]\n",
      "Pesos:  [2.15416284 0.7400497 ]\n",
      "Pesos:  [2.15416284 0.7400497 ]\n",
      "Pesos:  [2.15416284 0.7400497 ]\n",
      "Pesos:  [2.15416284 0.7400497 ]\n",
      "Pesos:  [2.15416284 0.7400497 ]\n"
     ]
    }
   ],
   "source": [
    "# Aprendizaje\n",
    "while epIni < epocas:\n",
    "    # Presentar datos a perceptron\n",
    "    for i in range(y.shape[0]):\n",
    "        # Observar : f(Wp)\n",
    "        yH    = activacion(np.dot(pesos,X[i]))\n",
    "        error = y[i] - yH\n",
    "        \n",
    "        # Actualización \n",
    "        pesos += error * X[i]\n",
    "        print(\"Pesos: \", pesos)\n",
    "    \n",
    "    epIni += 1"
   ]
  },
  {
   "cell_type": "code",
   "execution_count": 26,
   "id": "884750c4",
   "metadata": {},
   "outputs": [
    {
     "data": {
      "text/plain": [
       "[1, 0, 0]"
      ]
     },
     "execution_count": 26,
     "metadata": {},
     "output_type": "execute_result"
    }
   ],
   "source": [
    "[activacion(np.dot(pesos,X[0],)), activacion(np.dot(pesos,X[1])), \n",
    " activacion(np.dot(pesos,X[2]))]"
   ]
  },
  {
   "cell_type": "code",
   "execution_count": 27,
   "id": "4d6669a6",
   "metadata": {},
   "outputs": [
    {
     "data": {
      "text/plain": [
       "<matplotlib.collections.PathCollection at 0x7ff2d933b4f0>"
      ]
     },
     "execution_count": 27,
     "metadata": {},
     "output_type": "execute_result"
    },
    {
     "data": {
      "image/png": "[encoded data removed]",
      "text/plain": [
       "<Figure size 640x480 with 1 Axes>"
      ]
     },
     "metadata": {},
     "output_type": "display_data"
    }
   ],
   "source": [
    "for x1 in np.arange(-3.0,3.0,0.5):\n",
    "    for x2 in np.arange(-3.0,3.0,0.5):\n",
    "        # print(\"x1, x2 = \",x1, x2)\n",
    "        prediccion = activacion(np.dot(pesos,[x1, x2]))\n",
    "        #print(\"prediccion = \", prediccion)\n",
    "        if prediccion == 0:\n",
    "            plt.scatter(x1,x2,color=\"red\", alpha=0.2)\n",
    "        else:\n",
    "            plt.scatter(x1,x2,color=\"blue\", alpha=0.2)\n",
    "\n",
    "plt.scatter(X[0,0],X[0,1],color=\"blue\")\n",
    "plt.scatter(X[1,0],X[1,1],color=\"red\")\n",
    "plt.scatter(X[2,0],X[2,1],color=\"red\")"
   ]
  },
  {
   "cell_type": "code",
   "execution_count": null,
   "id": "ffa6c8ac",
   "metadata": {},
   "outputs": [],
   "source": []
  }
 ],
 "metadata": {
  "kernelspec": {
   "display_name": "Python 3 (ipykernel)",
   "language": "python",
   "name": "python3"
  },
  "language_info": {
   "codemirror_mode": {
    "name": "ipython",
    "version": 3
   },
   "file_extension": ".py",
   "mimetype": "text/x-python",
   "name": "python",
   "nbconvert_exporter": "python",
   "pygments_lexer": "ipython3",
   "version": "3.10.9"
  }
 },
 "nbformat": 4,
 "nbformat_minor": 5
}
