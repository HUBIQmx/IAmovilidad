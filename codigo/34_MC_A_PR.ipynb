{
 "cells": [
  {
   "cell_type": "markdown",
   "id": "fb9de5f0",
   "metadata": {},
   "source": [
    "## Matriz de confusión, accuracy, precision & recall"
   ]
  },
  {
   "cell_type": "code",
   "execution_count": 11,
   "id": "cb6a0f95",
   "metadata": {},
   "outputs": [
    {
     "name": "stdout",
     "output_type": "stream",
     "text": [
      "Matriz de confusión\n",
      "[[32  2]\n",
      " [ 3 77]]\n",
      "Score\n",
      "0.956140350877193\n",
      " Informe \n",
      "              precision    recall  f1-score   support\n",
      "\n",
      "           0       0.91      0.94      0.93        34\n",
      "           1       0.97      0.96      0.97        80\n",
      "\n",
      "    accuracy                           0.96       114\n",
      "   macro avg       0.94      0.95      0.95       114\n",
      "weighted avg       0.96      0.96      0.96       114\n",
      "\n"
     ]
    },
    {
     "name": "stderr",
     "output_type": "stream",
     "text": [
      "/Users/ivan/anaconda3/lib/python3.10/site-packages/sklearn/neural_network/_multilayer_perceptron.py:684: ConvergenceWarning: Stochastic Optimizer: Maximum iterations (100) reached and the optimization hasn't converged yet.\n",
      "  warnings.warn(\n"
     ]
    }
   ],
   "source": [
    "import numpy as np\n",
    "import matplotlib.pyplot as plt\n",
    "from sklearn.preprocessing import StandardScaler\n",
    "from sklearn import neural_network, datasets\n",
    "from sklearn.model_selection import train_test_split\n",
    "from sklearn.metrics import confusion_matrix\n",
    "from sklearn.metrics import classification_report\n",
    "\n",
    "np.random.seed(4)\n",
    "\n",
    "X, y = datasets.load_breast_cancer(return_X_y=True)\n",
    "\n",
    "X_train, X_test, y_train, y_test = train_test_split(X, y, test_size=0.2)\n",
    "# Scaling data\n",
    "scaler = StandardScaler() \n",
    "scaler.fit(X_train)  \n",
    "X_train = scaler.transform(X_train)  \n",
    "X_test = scaler.transform(X_test)  \n",
    "\n",
    "modelo = neural_network.MLPClassifier(\n",
    "        hidden_layer_sizes=(10),\n",
    "        activation='relu',\n",
    "        learning_rate_init=0.001,\n",
    "        max_iter=100,\n",
    "        solver='sgd'\n",
    "        )\n",
    "\n",
    "modelo.fit(X_train,y_train)\n",
    "\n",
    "y_pred = modelo.predict(X_test)\n",
    "\n",
    "CM = confusion_matrix(y_test,y_pred)\n",
    "\n",
    "print(\"Matriz de confusión\")\n",
    "print(CM)\n",
    "\n",
    "print(\"Score\")\n",
    "print(modelo.score(X_test, y_test))\n",
    "\n",
    "print(\" Informe \")\n",
    "print(classification_report(y_test, y_pred))"
   ]
  },
  {
   "cell_type": "code",
   "execution_count": 12,
   "id": "0a04e6d4",
   "metadata": {},
   "outputs": [],
   "source": [
    "TP, TN, FP, FN = 32, 77, 3, 2 "
   ]
  },
  {
   "cell_type": "code",
   "execution_count": 14,
   "id": "6e0063ed",
   "metadata": {},
   "outputs": [
    {
     "name": "stdout",
     "output_type": "stream",
     "text": [
      "0.956140350877193\n"
     ]
    }
   ],
   "source": [
    "Accuracy = (TP + TN) / (TP+TN+FP+FN)\n",
    "print(Accuracy)"
   ]
  },
  {
   "cell_type": "code",
   "execution_count": 15,
   "id": "c809653b",
   "metadata": {},
   "outputs": [
    {
     "data": {
      "text/plain": [
       "[0.9142857142857143, 0.9746835443037974]"
      ]
     },
     "execution_count": 15,
     "metadata": {},
     "output_type": "execute_result"
    }
   ],
   "source": [
    "P0 = TP / (TP+FP)\n",
    "P1 = TN / (TN+FN)\n",
    "[P0, P1]"
   ]
  },
  {
   "cell_type": "code",
   "execution_count": 16,
   "id": "7699e7e4",
   "metadata": {},
   "outputs": [
    {
     "data": {
      "text/plain": [
       "[0.9411764705882353, 0.9625]"
      ]
     },
     "execution_count": 16,
     "metadata": {},
     "output_type": "execute_result"
    }
   ],
   "source": [
    "R0 = TP / (TP+FN)\n",
    "R1 = TN / (TN+FP)\n",
    "[R0, R1]"
   ]
  },
  {
   "cell_type": "code",
   "execution_count": null,
   "id": "f442b307",
   "metadata": {},
   "outputs": [],
   "source": []
  }
 ],
 "metadata": {
  "kernelspec": {
   "display_name": "Python 3 (ipykernel)",
   "language": "python",
   "name": "python3"
  },
  "language_info": {
   "codemirror_mode": {
    "name": "ipython",
    "version": 3
   },
   "file_extension": ".py",
   "mimetype": "text/x-python",
   "name": "python",
   "nbconvert_exporter": "python",
   "pygments_lexer": "ipython3",
   "version": "3.10.9"
  }
 },
 "nbformat": 4,
 "nbformat_minor": 5
}
