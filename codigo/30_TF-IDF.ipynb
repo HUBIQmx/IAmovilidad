{
 "cells": [
  {
   "cell_type": "markdown",
   "id": "58c45b4e",
   "metadata": {},
   "source": [
    "## Clasificación BoW and TF-IDF"
   ]
  },
  {
   "cell_type": "code",
   "execution_count": 1,
   "id": "2dcd780b",
   "metadata": {},
   "outputs": [],
   "source": [
    "from sklearn.feature_extraction.text import CountVectorizer, TfidfTransformer\n",
    "from sklearn.linear_model import LogisticRegression"
   ]
  },
  {
   "cell_type": "code",
   "execution_count": 10,
   "id": "22256b97",
   "metadata": {},
   "outputs": [],
   "source": [
    "# Datos de entrenamiento\n",
    "docs_entrena = [\n",
    "    \"Este es un ejemplo de documento de texto\",\n",
    "    \"Otro ejemplo de documento de texto\",\n",
    "    \"Un tercer ejemplo de documento de texto\",\n",
    "    \"Un ejemplo mas de texto\",\n",
    "    \"Descripcion mas de texto\"\n",
    "]\n",
    "\n",
    "clases_entrena = [\"Servicio 1\", \"Servicio 2\", \"Servicio 3\", \"Servicio 1\", \"Servicio 3\"]\n",
    "\n",
    "# Datos de prueba\n",
    "docs_prueba = [\n",
    "    \"Este es un ejemplo de documento\",\n",
    "    \"Otro ejemplo\",\n",
    "    \"Un tercer ejemplo\",\n",
    "    \"Un documento mas\"\n",
    "]\n",
    "\n",
    "vocabulario = ['Ejemplo', 'documento', 'tercer']"
   ]
  },
  {
   "cell_type": "code",
   "execution_count": 11,
   "id": "d2b447de",
   "metadata": {},
   "outputs": [],
   "source": [
    "## BoW\n",
    "BoW_entrena = CountVectorizer(vocabulary=vocabulario, lowercase=False).fit_transform(docs_entrena)\n",
    "\n",
    "# Crear el transformador TF-IDF\n",
    "TF  = TfidfTransformer().fit(BoW_entrena)\n",
    "TFIDF_entrena = TF.transform(BoW_entrena)"
   ]
  },
  {
   "cell_type": "code",
   "execution_count": 12,
   "id": "93df963d",
   "metadata": {},
   "outputs": [
    {
     "data": {
      "text/plain": [
       "array([[0, 1, 0],\n",
       "       [0, 1, 0],\n",
       "       [0, 1, 1],\n",
       "       [0, 0, 0],\n",
       "       [0, 0, 0]])"
      ]
     },
     "execution_count": 12,
     "metadata": {},
     "output_type": "execute_result"
    }
   ],
   "source": [
    "BoW_entrena.toarray()"
   ]
  },
  {
   "cell_type": "code",
   "execution_count": 13,
   "id": "611b9789",
   "metadata": {},
   "outputs": [
    {
     "data": {
      "text/plain": [
       "array([[0.        , 1.        , 0.        ],\n",
       "       [0.        , 1.        , 0.        ],\n",
       "       [0.        , 0.55645052, 0.83088075],\n",
       "       [0.        , 0.        , 0.        ],\n",
       "       [0.        , 0.        , 0.        ]])"
      ]
     },
     "execution_count": 13,
     "metadata": {},
     "output_type": "execute_result"
    }
   ],
   "source": [
    "TFIDF_entrena.toarray()"
   ]
  },
  {
   "cell_type": "code",
   "execution_count": null,
   "id": "d4bc637f",
   "metadata": {},
   "outputs": [],
   "source": []
  },
  {
   "cell_type": "code",
   "execution_count": 14,
   "id": "ad51429d",
   "metadata": {},
   "outputs": [
    {
     "name": "stdout",
     "output_type": "stream",
     "text": [
      "['Servicio 1' 'Servicio 1' 'Servicio 3' 'Servicio 1']\n"
     ]
    }
   ],
   "source": [
    "## clasificador Logistic Regression\n",
    "modelo1 = LogisticRegression()\n",
    "\n",
    "# Entrenar el clasificador con los datos de entrenamiento\n",
    "modelo1.fit(BoW_entrena, clases_entrena)\n",
    "\n",
    "BoW_prueba = CountVectorizer(vocabulary=vocabulario,lowercase=False).fit_transform(docs_prueba)\n",
    "\n",
    "print(modelo1.predict(BoW_prueba))"
   ]
  },
  {
   "cell_type": "code",
   "execution_count": 15,
   "id": "f864fe74",
   "metadata": {},
   "outputs": [
    {
     "name": "stdout",
     "output_type": "stream",
     "text": [
      "['Servicio 1' 'Servicio 3' 'Servicio 3' 'Servicio 1']\n"
     ]
    }
   ],
   "source": [
    "## clasificador Logistic Regression\n",
    "modelo2 = LogisticRegression()\n",
    "\n",
    "# Entrenar el clasificador con los datos de entrenamiento\n",
    "modelo2.fit(TFIDF_entrena, clases_entrena)\n",
    "\n",
    "TFIDF_prueba = TF.transform(BoW_prueba)\n",
    "\n",
    "print(modelo2.predict(TFIDF_prueba))"
   ]
  },
  {
   "cell_type": "code",
   "execution_count": null,
   "id": "7c24ad03",
   "metadata": {},
   "outputs": [],
   "source": [
    "\n",
    "\n",
    "\n",
    "\n",
    "\n",
    "\n"
   ]
  }
 ],
 "metadata": {
  "kernelspec": {
   "display_name": "Python 3 (ipykernel)",
   "language": "python",
   "name": "python3"
  },
  "language_info": {
   "codemirror_mode": {
    "name": "ipython",
    "version": 3
   },
   "file_extension": ".py",
   "mimetype": "text/x-python",
   "name": "python",
   "nbconvert_exporter": "python",
   "pygments_lexer": "ipython3",
   "version": "3.10.9"
  }
 },
 "nbformat": 4,
 "nbformat_minor": 5
}
