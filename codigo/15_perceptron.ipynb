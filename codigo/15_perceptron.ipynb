{
 "cells": [
  {
   "cell_type": "markdown",
   "id": "d8639239",
   "metadata": {},
   "source": [
    "## Perceptrón - segundo ejemplo"
   ]
  },
  {
   "cell_type": "code",
   "execution_count": 1,
   "id": "e85f4749",
   "metadata": {},
   "outputs": [],
   "source": [
    "# Librerias\n",
    "import matplotlib.pyplot as plt\n",
    "import numpy as np"
   ]
  },
  {
   "cell_type": "code",
   "execution_count": 2,
   "id": "69f1083d",
   "metadata": {},
   "outputs": [],
   "source": [
    "# Datos\n",
    "X = np.array([[0, 0], [0, 1], [1, 0], [1, 1]])\n",
    "y = np.array([0, 0, 0, 1])"
   ]
  },
  {
   "cell_type": "code",
   "execution_count": 3,
   "id": "390ddf5f",
   "metadata": {},
   "outputs": [],
   "source": [
    "# Función de activación\n",
    "def activacion(x):\n",
    "    return 1 if x >= 0 else 0"
   ]
  },
  {
   "cell_type": "code",
   "execution_count": 29,
   "id": "ba48cef4",
   "metadata": {},
   "outputs": [],
   "source": [
    "# Inicializamos parametros\n",
    "np.random.seed(123)\n",
    "\n",
    "alpha  = 0.01 # Tasa de aprendizaje\n",
    "\n",
    "pesos  = np.random.rand(2)\n",
    "sesgo  = np.random.rand()\n",
    "\n",
    "epocas = 50\n",
    "epIni  = 0\n",
    "\n",
    "logE = np.array([])"
   ]
  },
  {
   "cell_type": "code",
   "execution_count": 30,
   "id": "e1b1fe3f",
   "metadata": {},
   "outputs": [
    {
     "data": {
      "text/plain": [
       "[array([0.69646919, 0.28613933]), 0.2268514535642031]"
      ]
     },
     "execution_count": 30,
     "metadata": {},
     "output_type": "execute_result"
    }
   ],
   "source": [
    "[pesos, sesgo]"
   ]
  },
  {
   "cell_type": "code",
   "execution_count": 31,
   "id": "fc9e1397",
   "metadata": {},
   "outputs": [],
   "source": [
    "# Aprendizaje\n",
    "while epIni < epocas:\n",
    "    \n",
    "    errorT = 0\n",
    "    # Presentar todos los puntos al perceptron\n",
    "    for i in range(y.shape[0]):\n",
    "        # Observar - y = f(Wp+b)\n",
    "        yH = activacion(np.dot(pesos,X[i]) + sesgo)\n",
    "        error = y[i] - yH\n",
    "        errorT += error**2\n",
    "        \n",
    "        # Actualizar\n",
    "        pesos += alpha * error * X[i]\n",
    "        sesgo += alpha * error\n",
    "        \n",
    "    logE = np.append(logE,errorT)\n",
    "    epIni+= 1"
   ]
  },
  {
   "cell_type": "code",
   "execution_count": 32,
   "id": "227a4580",
   "metadata": {},
   "outputs": [
    {
     "data": {
      "text/plain": [
       "[array([0.34646919, 0.13613933]), -0.35314854643579713]"
      ]
     },
     "execution_count": 32,
     "metadata": {},
     "output_type": "execute_result"
    }
   ],
   "source": [
    "[pesos, sesgo]"
   ]
  },
  {
   "cell_type": "code",
   "execution_count": 33,
   "id": "600ccc4a",
   "metadata": {},
   "outputs": [
    {
     "data": {
      "text/plain": [
       "[0, 0, 0, 1]"
      ]
     },
     "execution_count": 33,
     "metadata": {},
     "output_type": "execute_result"
    }
   ],
   "source": [
    "[activacion(np.dot(pesos,X[0]) + sesgo), \n",
    " activacion(np.dot(pesos,X[1]) + sesgo), \n",
    " activacion(np.dot(pesos,X[2]) + sesgo),\n",
    " activacion(np.dot(pesos,X[3]) + sesgo)]"
   ]
  },
  {
   "cell_type": "code",
   "execution_count": 34,
   "id": "dfddfdd4",
   "metadata": {},
   "outputs": [
    {
     "data": {
      "image/png": "[encoded data removed]",
      "text/plain": [
       "<Figure size 640x480 with 1 Axes>"
      ]
     },
     "metadata": {},
     "output_type": "display_data"
    }
   ],
   "source": [
    "colores = ['red' if i==0 else 'blue' for i in y]\n",
    "ax=plt.gca()\n",
    "ax.scatter(X[:, 0], X[:, 1], c=colores)\n",
    "plt.xlabel(r'$x_1$')\n",
    "plt.ylabel(r'$x_2$')\n",
    "plt.title(\"Datos de Entrenamiento\")\n",
    "plt.show()"
   ]
  },
  {
   "cell_type": "code",
   "execution_count": 35,
   "id": "41560b4b",
   "metadata": {},
   "outputs": [
    {
     "data": {
      "image/png": "[encoded data removed]",
      "text/plain": [
       "<Figure size 640x480 with 1 Axes>"
      ]
     },
     "metadata": {},
     "output_type": "display_data"
    }
   ],
   "source": [
    "for x1 in np.arange(0.0,1.0,0.1):\n",
    "    for x2 in np.arange(0.0,1.0,0.1):\n",
    "        prediccion = activacion(np.dot(pesos,[x1, x2]) + sesgo)\n",
    "        if prediccion == 0:\n",
    "            plt.scatter(x1,x2,color=\"red\")\n",
    "        else:\n",
    "            plt.scatter(x1,x2,color=\"blue\")"
   ]
  },
  {
   "cell_type": "code",
   "execution_count": 36,
   "id": "bf8f756d",
   "metadata": {},
   "outputs": [
    {
     "data": {
      "text/plain": [
       "array([3., 3., 3., 3., 3., 3., 3., 3., 2., 2., 2., 2., 2., 2., 2., 1., 1.,\n",
       "       1., 1., 1., 1., 1., 1., 1., 1., 1., 1., 1., 1., 1., 1., 1., 1., 1.,\n",
       "       1., 0., 0., 0., 0., 0., 0., 0., 0., 0., 0., 0., 0., 0., 0., 0.])"
      ]
     },
     "execution_count": 36,
     "metadata": {},
     "output_type": "execute_result"
    }
   ],
   "source": [
    "logE"
   ]
  },
  {
   "cell_type": "code",
   "execution_count": null,
   "id": "35399fb2",
   "metadata": {},
   "outputs": [],
   "source": []
  }
 ],
 "metadata": {
  "kernelspec": {
   "display_name": "Python 3 (ipykernel)",
   "language": "python",
   "name": "python3"
  },
  "language_info": {
   "codemirror_mode": {
    "name": "ipython",
    "version": 3
   },
   "file_extension": ".py",
   "mimetype": "text/x-python",
   "name": "python",
   "nbconvert_exporter": "python",
   "pygments_lexer": "ipython3",
   "version": "3.10.9"
  }
 },
 "nbformat": 4,
 "nbformat_minor": 5
}
