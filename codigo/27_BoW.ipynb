{
 "cells": [
  {
   "cell_type": "markdown",
   "id": "6e3a19cb",
   "metadata": {},
   "source": [
    "## Bag of words - BoW"
   ]
  },
  {
   "cell_type": "code",
   "execution_count": 1,
   "id": "3945a584",
   "metadata": {},
   "outputs": [],
   "source": [
    "#Librerias\n",
    "from sklearn.feature_extraction.text import CountVectorizer"
   ]
  },
  {
   "cell_type": "code",
   "execution_count": 11,
   "id": "dedff484",
   "metadata": {},
   "outputs": [],
   "source": [
    "# Datos\n",
    "texto = ['this is the first document about the new service',\n",
    "           'this document is the second document on the new service',\n",
    "           'and this is the third one',\n",
    "           'is this document the first document',\n",
    "           'a document',\n",
    "           'new first document and service',\n",
    "           'one more service document of the service'\n",
    "           'this is the last document']\n",
    "\n",
    "BoWv = ['this', 'document', 'first', 'second', 'new', 'service']"
   ]
  },
  {
   "cell_type": "code",
   "execution_count": 12,
   "id": "5f0d4f8f",
   "metadata": {},
   "outputs": [
    {
     "data": {
      "text/plain": [
       "['this', 'document', 'first', 'second', 'new', 'service']"
      ]
     },
     "execution_count": 12,
     "metadata": {},
     "output_type": "execute_result"
    }
   ],
   "source": [
    "BoWv"
   ]
  },
  {
   "cell_type": "code",
   "execution_count": 13,
   "id": "4cd9703f",
   "metadata": {},
   "outputs": [
    {
     "data": {
      "text/plain": [
       "['this is the first document about the new service',\n",
       " 'this document is the second document on the new service',\n",
       " 'and this is the third one',\n",
       " 'is this document the first document',\n",
       " 'a document',\n",
       " 'new first document and service',\n",
       " 'one more service document of the servicethis is the last document']"
      ]
     },
     "execution_count": 13,
     "metadata": {},
     "output_type": "execute_result"
    }
   ],
   "source": [
    "texto"
   ]
  },
  {
   "cell_type": "code",
   "execution_count": 14,
   "id": "085009d2",
   "metadata": {},
   "outputs": [],
   "source": [
    "Texto_BoW = CountVectorizer(vocabulary=BoWv).fit_transform(texto)"
   ]
  },
  {
   "cell_type": "code",
   "execution_count": 15,
   "id": "7bcff8c6",
   "metadata": {},
   "outputs": [
    {
     "data": {
      "text/plain": [
       "<7x6 sparse matrix of type '<class 'numpy.int64'>'\n",
       "\twith 21 stored elements in Compressed Sparse Row format>"
      ]
     },
     "execution_count": 15,
     "metadata": {},
     "output_type": "execute_result"
    }
   ],
   "source": [
    "Texto_BoW"
   ]
  },
  {
   "cell_type": "code",
   "execution_count": 16,
   "id": "3b60330b",
   "metadata": {},
   "outputs": [
    {
     "data": {
      "text/plain": [
       "array([[1, 1, 1, 0, 1, 1],\n",
       "       [1, 2, 0, 1, 1, 1],\n",
       "       [1, 0, 0, 0, 0, 0],\n",
       "       [1, 2, 1, 0, 0, 0],\n",
       "       [0, 1, 0, 0, 0, 0],\n",
       "       [0, 1, 1, 0, 1, 1],\n",
       "       [0, 2, 0, 0, 0, 1]])"
      ]
     },
     "execution_count": 16,
     "metadata": {},
     "output_type": "execute_result"
    }
   ],
   "source": [
    "Texto_BoW.toarray()"
   ]
  },
  {
   "cell_type": "code",
   "execution_count": 17,
   "id": "f4f66faa",
   "metadata": {},
   "outputs": [
    {
     "data": {
      "text/plain": [
       "['this', 'document', 'first', 'second', 'new', 'service']"
      ]
     },
     "execution_count": 17,
     "metadata": {},
     "output_type": "execute_result"
    }
   ],
   "source": [
    "BoWv"
   ]
  },
  {
   "cell_type": "code",
   "execution_count": 18,
   "id": "1363d2e9",
   "metadata": {},
   "outputs": [
    {
     "data": {
      "text/plain": [
       "['this is the first document about the new service',\n",
       " 'this document is the second document on the new service',\n",
       " 'and this is the third one',\n",
       " 'is this document the first document',\n",
       " 'a document',\n",
       " 'new first document and service',\n",
       " 'one more service document of the servicethis is the last document']"
      ]
     },
     "execution_count": 18,
     "metadata": {},
     "output_type": "execute_result"
    }
   ],
   "source": [
    "texto"
   ]
  },
  {
   "cell_type": "code",
   "execution_count": null,
   "id": "61c8f39f",
   "metadata": {},
   "outputs": [],
   "source": []
  }
 ],
 "metadata": {
  "kernelspec": {
   "display_name": "Python 3 (ipykernel)",
   "language": "python",
   "name": "python3"
  },
  "language_info": {
   "codemirror_mode": {
    "name": "ipython",
    "version": 3
   },
   "file_extension": ".py",
   "mimetype": "text/x-python",
   "name": "python",
   "nbconvert_exporter": "python",
   "pygments_lexer": "ipython3",
   "version": "3.10.9"
  }
 },
 "nbformat": 4,
 "nbformat_minor": 5
}
