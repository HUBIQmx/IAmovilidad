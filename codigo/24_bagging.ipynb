{
 "cells": [
  {
   "cell_type": "markdown",
   "id": "bf2c386d",
   "metadata": {},
   "source": [
    "## Ejemplo bagging"
   ]
  },
  {
   "cell_type": "code",
   "execution_count": 1,
   "id": "178727b5",
   "metadata": {},
   "outputs": [],
   "source": [
    "# Librerias\n",
    "from sklearn.ensemble import BaggingClassifier\n",
    "from sklearn.neighbors import KNeighborsClassifier\n",
    "from sklearn.preprocessing import StandardScaler\n",
    "from sklearn.model_selection import train_test_split\n",
    "from sklearn import datasets\n",
    "import numpy as np"
   ]
  },
  {
   "cell_type": "code",
   "execution_count": 2,
   "id": "d15920fc",
   "metadata": {},
   "outputs": [],
   "source": [
    "# Datos\n",
    "np.random.seed(2)\n",
    "\n",
    "X, y = datasets.load_wine(return_X_y=True)\n",
    "variables = datasets.load_wine().feature_names\n",
    "X_train, X_test, y_train, y_test = train_test_split(X, y, test_size=0.2)\n",
    "\n",
    "# Scaling data\n",
    "scaler1 = StandardScaler() \n",
    "scaler1.fit(X_train)  \n",
    "X_train = scaler1.transform(X_train)  \n",
    "\n",
    "scaler2 = StandardScaler() \n",
    "scaler2.fit(X_test)  \n",
    "X_test = scaler2.transform(X_test) "
   ]
  },
  {
   "cell_type": "code",
   "execution_count": 4,
   "id": "423ecb51",
   "metadata": {},
   "outputs": [
    {
     "name": "stdout",
     "output_type": "stream",
     "text": [
      "0.9166666666666666\n",
      "0.9444444444444444\n"
     ]
    }
   ],
   "source": [
    "n_neighbors = 5\n",
    "modelo = KNeighborsClassifier(n_neighbors)\n",
    "modelo.fit(X_train,y_train)\n",
    "\n",
    "# Bagging \n",
    "modeloB = BaggingClassifier(KNeighborsClassifier(n_neighbors), n_estimators=40)\n",
    "modeloB.fit(X_train,y_train)\n",
    "\n",
    "print(modelo.score(X_test,y_test))\n",
    "print(modeloB.score(X_test,y_test))"
   ]
  },
  {
   "cell_type": "code",
   "execution_count": null,
   "id": "3764732d",
   "metadata": {},
   "outputs": [],
   "source": []
  }
 ],
 "metadata": {
  "kernelspec": {
   "display_name": "Python 3 (ipykernel)",
   "language": "python",
   "name": "python3"
  },
  "language_info": {
   "codemirror_mode": {
    "name": "ipython",
    "version": 3
   },
   "file_extension": ".py",
   "mimetype": "text/x-python",
   "name": "python",
   "nbconvert_exporter": "python",
   "pygments_lexer": "ipython3",
   "version": "3.10.9"
  }
 },
 "nbformat": 4,
 "nbformat_minor": 5
}
