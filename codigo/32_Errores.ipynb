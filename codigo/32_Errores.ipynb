{
 "cells": [
  {
   "cell_type": "markdown",
   "id": "bffda55a",
   "metadata": {},
   "source": [
    "## Errors"
   ]
  },
  {
   "cell_type": "code",
   "execution_count": 3,
   "id": "2f72c7bc",
   "metadata": {},
   "outputs": [],
   "source": [
    "# Librerias\n",
    "from sklearn.metrics import mean_squared_error, r2_score, mean_absolute_error, mean_absolute_percentage_error"
   ]
  },
  {
   "cell_type": "code",
   "execution_count": 8,
   "id": "3f37b103",
   "metadata": {},
   "outputs": [],
   "source": [
    "# Datos\n",
    "y_true = [1, 10, 1e6]\n",
    "y_pred = [0.9, 15, 1.2e6]"
   ]
  },
  {
   "cell_type": "code",
   "execution_count": 9,
   "id": "117c772f",
   "metadata": {},
   "outputs": [
    {
     "name": "stdout",
     "output_type": "stream",
     "text": [
      "MSE:  13333333341.67\n",
      "R2:  0.9399993399606846\n",
      "MAE:  66668.36666666667\n",
      "MAPE :  0.26666666666666666\n"
     ]
    }
   ],
   "source": [
    "# Metricas\n",
    "print(\"MSE: \", mean_squared_error(y_true, y_pred))\n",
    "print(\"R2: \", r2_score(y_true, y_pred))\n",
    "print(\"MAE: \", mean_absolute_error(y_true, y_pred))\n",
    "print(\"MAPE : \", mean_absolute_percentage_error(y_true, y_pred))"
   ]
  },
  {
   "cell_type": "code",
   "execution_count": null,
   "id": "171740ab",
   "metadata": {},
   "outputs": [],
   "source": []
  }
 ],
 "metadata": {
  "kernelspec": {
   "display_name": "Python 3 (ipykernel)",
   "language": "python",
   "name": "python3"
  },
  "language_info": {
   "codemirror_mode": {
    "name": "ipython",
    "version": 3
   },
   "file_extension": ".py",
   "mimetype": "text/x-python",
   "name": "python",
   "nbconvert_exporter": "python",
   "pygments_lexer": "ipython3",
   "version": "3.10.9"
  }
 },
 "nbformat": 4,
 "nbformat_minor": 5
}
