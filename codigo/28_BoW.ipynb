{
 "cells": [
  {
   "cell_type": "markdown",
   "id": "9a4362c1",
   "metadata": {},
   "source": [
    "## Bag of n-grams"
   ]
  },
  {
   "cell_type": "code",
   "execution_count": 1,
   "id": "050356d1",
   "metadata": {},
   "outputs": [],
   "source": [
    "# Librerias\n",
    "import pandas as pd\n",
    "import json\n",
    "from sklearn.feature_extraction.text import CountVectorizer"
   ]
  },
  {
   "cell_type": "code",
   "execution_count": 2,
   "id": "1a52feae",
   "metadata": {},
   "outputs": [],
   "source": [
    "# Datos\n",
    "myFile = open('yelp_academic_dataset_review.json')\n",
    "aux = []\n",
    "for i in range(1000):\n",
    "    aux.append(json.loads(myFile.readline()))\n",
    "myFile.close()\n",
    "\n",
    "review_df = pd.DataFrame(aux)"
   ]
  },
  {
   "cell_type": "code",
   "execution_count": 3,
   "id": "b9c7c219",
   "metadata": {},
   "outputs": [
    {
     "data": {
      "text/plain": [
       "(1000, 8)"
      ]
     },
     "execution_count": 3,
     "metadata": {},
     "output_type": "execute_result"
    }
   ],
   "source": [
    "review_df.shape"
   ]
  },
  {
   "cell_type": "code",
   "execution_count": 4,
   "id": "d253c45a",
   "metadata": {},
   "outputs": [
    {
     "data": {
      "text/plain": [
       "'My wife took me here on my birthday for breakfast and it was excellent.  The weather was perfect which made sitting outside overlooking their grounds an absolute pleasure.  Our waitress was excellent and our food arrived quickly on the semi-busy Saturday morning.  It looked like the place fills up pretty quickly so the earlier you get here the better.\\n\\nDo yourself a favor and get their Bloody Mary.  It was phenomenal and simply the best I\\'ve ever had.  I\\'m pretty sure they only use ingredients from their garden and blend them fresh when you order it.  It was amazing.\\n\\nWhile EVERYTHING on the menu looks excellent, I had the white truffle scrambled eggs vegetable skillet and it was tasty and delicious.  It came with 2 pieces of their griddled bread with was amazing and it absolutely made the meal complete.  It was the best \"toast\" I\\'ve ever had.\\n\\nAnyway, I can\\'t wait to go back!'"
      ]
     },
     "execution_count": 4,
     "metadata": {},
     "output_type": "execute_result"
    }
   ],
   "source": [
    "review_df.iloc[0]['text']"
   ]
  },
  {
   "cell_type": "code",
   "execution_count": 6,
   "id": "316aafec",
   "metadata": {},
   "outputs": [
    {
     "data": {
      "text/plain": [
       "\"IKEA is so much fun. It's a little bit of a walk up and down the store but with all the different items on display there is time to sit and relax on the chairs, couches, beds. I love walking around the store looking a new ideas for my own home. They have very good prices on all household items. When shopping for accessories for the house I highly recommend going to IKEA because you are bound to find something. Simple things such as Tupperware, trash cans, bathroom accessories can all be found at a really good price.\""
      ]
     },
     "execution_count": 6,
     "metadata": {},
     "output_type": "execute_result"
    }
   ],
   "source": [
    "review_df.iloc[-1]['text']"
   ]
  },
  {
   "cell_type": "code",
   "execution_count": 7,
   "id": "cd1f6f02",
   "metadata": {},
   "outputs": [
    {
     "name": "stdout",
     "output_type": "stream",
     "text": [
      "9889 66226 107553\n"
     ]
    }
   ],
   "source": [
    "# BoW\n",
    "bow = CountVectorizer()\n",
    "# 2-gram\n",
    "bigram = CountVectorizer(ngram_range=(2,2))\n",
    "#3-gram\n",
    "trigram = CountVectorizer(ngram_range=(3,3))\n",
    "\n",
    "# Words\n",
    "bow.fit(review_df['text'])\n",
    "words = bow.get_feature_names_out()\n",
    "\n",
    "# Bigrams\n",
    "bigram.fit(review_df['text'])\n",
    "bigrams = bigram.get_feature_names_out()\n",
    "\n",
    "# Trigrams\n",
    "trigram.fit(review_df['text'])\n",
    "trigrams = trigram.get_feature_names_out()\n",
    "\n",
    "print (len(words), len(bigrams), len(trigrams))"
   ]
  },
  {
   "cell_type": "code",
   "execution_count": 8,
   "id": "b665014f",
   "metadata": {},
   "outputs": [
    {
     "data": {
      "text/plain": [
       "array(['00', '000', '00pm', '02', '05', '07', '10', '100', '1000', '101',\n",
       "       '102729', '10am', '10min', '10mins', '10pm', '11', '110', '115',\n",
       "       '11am', '12', '120', '1202', '12am', '12oz', '12pm', '13', '1300',\n",
       "       '13th', '14', '149', '15', '150', '15pm', '16', '16th', '17', '18',\n",
       "       '19', '1920', '1950', '1965', '1969', '1970', '1973', '1980',\n",
       "       '1990s', '1992', '1995', '1998', '19th', '1cent', '1hour', '1pm',\n",
       "       '1st', '20', '200', '2003', '2007', '2009', '200lb', '201', '2013',\n",
       "       '20mbs', '20min', '20oz', '21', '21st', '22', '220', '23', '24',\n",
       "       '24th', '25', '26', '2608', '27', '28', '29', '2939', '299',\n",
       "       '29th', '2am', '2nd', '30', '300', '30am', '30pm', '316', '325',\n",
       "       '340', '35', '35c', '35th', '36', '360', '38', '39', '3chicken',\n",
       "       '3d', '3pm'], dtype=object)"
      ]
     },
     "execution_count": 8,
     "metadata": {},
     "output_type": "execute_result"
    }
   ],
   "source": [
    "words[0:100]"
   ]
  },
  {
   "cell_type": "code",
   "execution_count": 11,
   "id": "d479aa17",
   "metadata": {},
   "outputs": [
    {
     "data": {
      "text/plain": [
       "array(['yourself because', 'yourself bet', 'yourself favor',\n",
       "       'yourself in', 'yourself it', 'yourself our', 'yourself serious',\n",
       "       'yourself she', 'yourself straight', 'yourself the',\n",
       "       'yourself wasn', 'yourself while', 'yourselves with',\n",
       "       'yourselves you', 'youth programs', 'yr old', 'yragui hands',\n",
       "       'yuck and', 'yuck besides', 'yuck the', 'yuk it', 'yum and',\n",
       "       'yum extra', 'yum getcha', 'yum my', 'yum ordered', 'yum rachael',\n",
       "       'yum so', 'yum steaks', 'yum the', 'yum to', 'yum yum',\n",
       "       'yumminess ambiance', 'yummm great', 'yummmm when', 'yummmmmy the',\n",
       "       'yummo fresh', 'yummy and', 'yummy as', 'yummy bonus', 'yummy but',\n",
       "       'yummy carin', 'yummy cheese', 'yummy choices', 'yummy did',\n",
       "       'yummy food', 'yummy good', 'yummy have', 'yummy if', 'yummy in',\n",
       "       'yummy it', 'yummy manageably', 'yummy noodles', 'yummy one',\n",
       "       'yummy our', 'yummy pint', 'yummy pizza', 'yummy sounding',\n",
       "       'yummy spicy', 'yummy the', 'yummy things', 'yummy we',\n",
       "       'yummy went', 'yummy wildflower', 'yummy with', 'yummy would',\n",
       "       'yup reviewing', 'yupha fried', 'yupha thai', 'yuppie food',\n",
       "       'zach and', 'zach even', 'zach our', 'zach that', 'zankou chicken',\n",
       "       'zealand similar', 'zebra for', 'zen out', 'zero guilt',\n",
       "       'zichini and', 'zihuatenejo awaited', 'zinburger last', 'zip lock',\n",
       "       'zippy doo', 'ziti and', 'zoe food', 'zoe serves', 'zombies the',\n",
       "       'zone of', 'zones are', 'zoo on', 'zucca chips',\n",
       "       'zucchini asparagus', 'zucchini mushroom', 'zucchini squash',\n",
       "       'zucchini the', 'zucchini was', 'zuch and', 'zupas officially'],\n",
       "      dtype=object)"
      ]
     },
     "execution_count": 11,
     "metadata": {},
     "output_type": "execute_result"
    }
   ],
   "source": [
    "bigrams[-100:-1]"
   ]
  },
  {
   "cell_type": "code",
   "execution_count": 12,
   "id": "b2f02e6f",
   "metadata": {},
   "outputs": [
    {
     "data": {
      "text/plain": [
       "array(['00 am before', '00 am like', '00 am or', '00 and that',\n",
       "       '00 and the', '00 but swear', '00 everyday except', '00 for 24',\n",
       "       '00 for lb', '00 give thumbs', '00 had party', '00 ish on',\n",
       "       '00 it is', '00 not too', '00 on saturday', '00 so all',\n",
       "       '00 specials on', '00 that about', '00 there on', '00 till 00',\n",
       "       '000 people attended', '000 students and', '00pm and several',\n",
       "       '00pm and they', '00pm but decided', '00pm my water',\n",
       "       '00pm the guy', '00pm they will', '00pm we were', '02 we shared',\n",
       "       '05 minutes after', '07 think was', '07 we were', '10 00 am',\n",
       "       '10 00 and', '10 00pm my', '10 00pm they', '10 00pm we',\n",
       "       '10 07 we', '10 10 veggies', '10 12 bucks', '10 13 15', '10 30 am',\n",
       "       '10 30 when', '10 58 the', '10 75 great', '10 am and',\n",
       "       '10 am there', '10 and we', '10 brings tears', '10 bucks even',\n",
       "       '10 bucks for', '10 bucks now', '10 bummer but', '10 but the',\n",
       "       '10 cent per', '10 days and', '10 days no', '10 days showing',\n",
       "       '10 each along', '10 flat screen', '10 for four',\n",
       "       '10 freeway courtesy', '10 hello we', '10 hot wings',\n",
       "       '10 items is', '10 lunch special', '10 mile radius', '10 mins to',\n",
       "       '10 minutes after', '10 minutes but', '10 minutes helping',\n",
       "       '10 minutes later', '10 minutes party', '10 minutes then',\n",
       "       '10 minutes to', '10 news the', '10 night stay', '10 no problem',\n",
       "       '10 not too', '10 options available', '10 or 12', '10 or 15',\n",
       "       '10 or so', '10 over any', '10 plate but', '10 pork was',\n",
       "       '10 pp without', '10 range for', '10 seconds jumped',\n",
       "       '10 spicy makes', '10 this place', '10 times out',\n",
       "       '10 trips mostly', '10 veggies meat', '10 wallet budget',\n",
       "       '10 years the', '10 years they', '10 you go', '10 you really'],\n",
       "      dtype=object)"
      ]
     },
     "execution_count": 12,
     "metadata": {},
     "output_type": "execute_result"
    }
   ],
   "source": [
    "trigrams[0:100]"
   ]
  },
  {
   "cell_type": "code",
   "execution_count": 13,
   "id": "6496c992",
   "metadata": {},
   "outputs": [
    {
     "data": {
      "text/plain": [
       "array(['yourselves with ones', 'yourselves you get',\n",
       "       'youth programs appeal', 'yr old daughter', 'yragui hands healing',\n",
       "       'yuck and wtf', 'yuck besides that', 'yuck the cordon',\n",
       "       'yuk it was', 'yum and erica', 'yum and the', 'yum and their',\n",
       "       'yum extra crispy', 'yum getcha some', 'yum my husband',\n",
       "       'yum ordered pine', 'yum rachael ray', 'yum so why',\n",
       "       'yum steaks were', 'yum the barbacoa', 'yum the entrees',\n",
       "       'yum to pizza', 'yum yum getcha', 'yumminess ambiance service',\n",
       "       'yummm great experience', 'yummmm when cant',\n",
       "       'yummmmmy the restaurant', 'yummo fresh greens', 'yummy and didn',\n",
       "       'yummy and filling', 'yummy and they', 'yummy as well',\n",
       "       'yummy bonus as', 'yummy but pricey', 'yummy but sometimes',\n",
       "       'yummy but what', 'yummy carin apparently', 'yummy cheese not',\n",
       "       'yummy choices the', 'yummy did not', 'yummy food great',\n",
       "       'yummy food we', 'yummy food with', 'yummy good but',\n",
       "       'yummy have gone', 'yummy if you', 'yummy in my', 'yummy it was',\n",
       "       'yummy manageably sized', 'yummy noodles all', 'yummy one thing',\n",
       "       'yummy our friend', 'yummy pint for', 'yummy sounding mac',\n",
       "       'yummy spicy if', 'yummy the burgundian', 'yummy the highlight',\n",
       "       'yummy the other', 'yummy the red', 'yummy the total',\n",
       "       'yummy things that', 'yummy we had', 'yummy went with',\n",
       "       'yummy wildflower is', 'yummy with or', 'yummy would like',\n",
       "       'yup reviewing gas', 'yupha fried rice', 'yupha thai kitchen',\n",
       "       'yuppie food menu', 'zach and thanks', 'zach even brought',\n",
       "       'zach our waiter', 'zach that was', 'zankou chicken in',\n",
       "       'zealand similar to', 'zebra for an', 'zen out and',\n",
       "       'zero guilt on', 'zichini and bell', 'zihuatenejo awaited us',\n",
       "       'zinburger last night', 'zip lock bag', 'zippy doo gave',\n",
       "       'ziti and lasagne', 'zoe food was', 'zoe serves mediterranean',\n",
       "       'zombies the décor', 'zone of the', 'zones are good', 'zoo on the',\n",
       "       'zucca chips which', 'zucchini asparagus caramelized',\n",
       "       'zucchini mushroom combo', 'zucchini squash jalapenos',\n",
       "       'zucchini the zucchini', 'zucchini was really',\n",
       "       'zuch and asparagus', 'zupas officially opens'], dtype=object)"
      ]
     },
     "execution_count": 13,
     "metadata": {},
     "output_type": "execute_result"
    }
   ],
   "source": [
    "trigrams[-100:-1]"
   ]
  },
  {
   "cell_type": "code",
   "execution_count": null,
   "id": "e7a52593",
   "metadata": {},
   "outputs": [],
   "source": []
  }
 ],
 "metadata": {
  "kernelspec": {
   "display_name": "Python 3 (ipykernel)",
   "language": "python",
   "name": "python3"
  },
  "language_info": {
   "codemirror_mode": {
    "name": "ipython",
    "version": 3
   },
   "file_extension": ".py",
   "mimetype": "text/x-python",
   "name": "python",
   "nbconvert_exporter": "python",
   "pygments_lexer": "ipython3",
   "version": "3.10.9"
  }
 },
 "nbformat": 4,
 "nbformat_minor": 5
}
